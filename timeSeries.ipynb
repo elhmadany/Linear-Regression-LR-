{
  "nbformat": 4,
  "nbformat_minor": 0,
  "metadata": {
    "colab": {
      "name": "Task2_vodafone.ipynb",
      "provenance": [],
      "collapsed_sections": [],
      "machine_shape": "hm",
      "include_colab_link": true
    },
    "kernelspec": {
      "name": "python3",
      "display_name": "Python 3"
    },
    "accelerator": "GPU"
  },
  "cells": [
    {
      "cell_type": "markdown",
      "metadata": {
        "id": "view-in-github",
        "colab_type": "text"
      },
      "source": [
        "<a href=\"https://colab.research.google.com/github/elhmadany/Linear-Regression-LR-/blob/master/timeSeries.ipynb\" target=\"_parent\"><img src=\"https://colab.research.google.com/assets/colab-badge.svg\" alt=\"Open In Colab\"/></a>"
      ]
    },
    {
      "cell_type": "code",
      "metadata": {
        "id": "S7YMCX3OyR2o",
        "colab_type": "code",
        "colab": {
          "base_uri": "https://localhost:8080/",
          "height": 81
        },
        "outputId": "6f2f2b0e-60c7-4a28-de10-3f0e8d095b07"
      },
      "source": [
        "import pandas as pd  \n",
        "import numpy as np\n",
        "from math import sqrt\n",
        "from sklearn.preprocessing import PolynomialFeatures\n",
        "from sklearn.model_selection import cross_val_score, train_test_split\n",
        "from sklearn.preprocessing import MinMaxScaler\n",
        "import os\n",
        "# visualization\n",
        "import seaborn as sns\n",
        "from scipy import stats\n",
        "from sklearn.ensemble import RandomForestRegressor\n",
        "\n",
        "import matplotlib.pyplot as plt\n",
        "sns.set() # setting seaborn default for plots\n",
        "%matplotlib inline\n",
        "from sklearn import metrics\n",
        "from sklearn.model_selection import validation_curve\n",
        "from sklearn.metrics import mean_squared_error,r2_score,mean_absolute_error\n",
        "from sklearn.linear_model import LinearRegression,Lasso,ElasticNet\n",
        "from sklearn.neighbors import KNeighborsRegressor\n",
        "from sklearn.model_selection import cross_val_score\n",
        "from sklearn.tree import DecisionTreeRegressor\n",
        "from sklearn.svm import SVR\n",
        "from sklearn.model_selection import KFold,train_test_split\n",
        "\n",
        "\n",
        "\n",
        "# from tensorflow.keras.models import Sequential\n",
        "# from tensorflow.keras.layers import Dense, Activation\n",
        "# from tensorflow.keras.callbacks import EarlyStopping"
      ],
      "execution_count": 1,
      "outputs": [
        {
          "output_type": "display_data",
          "data": {
            "text/html": [
              "<p style=\"color: red;\">\n",
              "The default version of TensorFlow in Colab will soon switch to TensorFlow 2.x.<br>\n",
              "We recommend you <a href=\"https://www.tensorflow.org/guide/migrate\" target=\"_blank\">upgrade</a> now \n",
              "or ensure your notebook will continue to use TensorFlow 1.x via the <code>%tensorflow_version 1.x</code> magic:\n",
              "<a href=\"https://colab.research.google.com/notebooks/tensorflow_version.ipynb\" target=\"_blank\">more info</a>.</p>\n"
            ],
            "text/plain": [
              "<IPython.core.display.HTML object>"
            ]
          },
          "metadata": {
            "tags": []
          }
        },
        {
          "output_type": "stream",
          "text": [
            "Using TensorFlow backend.\n"
          ],
          "name": "stderr"
        }
      ]
    },
    {
      "cell_type": "code",
      "metadata": {
        "id": "Fw5IOcSzy-65",
        "colab_type": "code",
        "outputId": "f6d41b1f-f92a-486f-bfb5-1f894ac5a2e4",
        "colab": {
          "base_uri": "https://localhost:8080/",
          "height": 34
        }
      },
      "source": [
        "\n",
        "from google.colab import drive\n",
        "\n",
        "drive.mount('/content/gdrive')\n",
        "\n",
        "\n"
      ],
      "execution_count": 2,
      "outputs": [
        {
          "output_type": "stream",
          "text": [
            "Drive already mounted at /content/gdrive; to attempt to forcibly remount, call drive.mount(\"/content/gdrive\", force_remount=True).\n"
          ],
          "name": "stdout"
        }
      ]
    },
    {
      "cell_type": "code",
      "metadata": {
        "id": "9FvqkH1JX7Cv",
        "colab_type": "code",
        "outputId": "fd7b5d16-f0e9-45e9-8c50-0be784bfc0ef",
        "colab": {
          "base_uri": "https://localhost:8080/",
          "height": 52
        }
      },
      "source": [
        "!ls '/content/gdrive/My Drive/Task 2'"
      ],
      "execution_count": 3,
      "outputs": [
        {
          "output_type": "stream",
          "text": [
            "'Data Science Challenge.docx'\t    DS_VF_Task_test.csv\n",
            " DS_VF_Task_sample_submission.csv   DS_VF_Task_train.csv\n"
          ],
          "name": "stdout"
        }
      ]
    },
    {
      "cell_type": "code",
      "metadata": {
        "id": "BOvGrdGZ7PWX",
        "colab_type": "code",
        "colab": {}
      },
      "source": [
        "trainData=pd.read_csv('/content/gdrive/My Drive/Task 2/DS_VF_Task_train.csv',header=0)"
      ],
      "execution_count": 0,
      "outputs": []
    },
    {
      "cell_type": "code",
      "metadata": {
        "id": "ue8dR9OjDybC",
        "colab_type": "code",
        "colab": {}
      },
      "source": [
        ""
      ],
      "execution_count": 0,
      "outputs": []
    },
    {
      "cell_type": "code",
      "metadata": {
        "id": "nSO-lu2r8OT7",
        "colab_type": "code",
        "colab": {}
      },
      "source": [
        ""
      ],
      "execution_count": 0,
      "outputs": []
    },
    {
      "cell_type": "code",
      "metadata": {
        "id": "h7xEsNnTxtI0",
        "colab_type": "code",
        "colab": {
          "base_uri": "https://localhost:8080/",
          "height": 202
        },
        "outputId": "f19ab33a-1eba-45e6-8a12-6b5cf40a8a76"
      },
      "source": [
        "trainData.head(5)"
      ],
      "execution_count": 5,
      "outputs": [
        {
          "output_type": "execute_result",
          "data": {
            "text/html": [
              "<div>\n",
              "<style scoped>\n",
              "    .dataframe tbody tr th:only-of-type {\n",
              "        vertical-align: middle;\n",
              "    }\n",
              "\n",
              "    .dataframe tbody tr th {\n",
              "        vertical-align: top;\n",
              "    }\n",
              "\n",
              "    .dataframe thead th {\n",
              "        text-align: right;\n",
              "    }\n",
              "</style>\n",
              "<table border=\"1\" class=\"dataframe\">\n",
              "  <thead>\n",
              "    <tr style=\"text-align: right;\">\n",
              "      <th></th>\n",
              "      <th>sensor_reading</th>\n",
              "      <th>time_to_failure</th>\n",
              "    </tr>\n",
              "  </thead>\n",
              "  <tbody>\n",
              "    <tr>\n",
              "      <th>0</th>\n",
              "      <td>12</td>\n",
              "      <td>1.4691</td>\n",
              "    </tr>\n",
              "    <tr>\n",
              "      <th>1</th>\n",
              "      <td>6</td>\n",
              "      <td>1.4691</td>\n",
              "    </tr>\n",
              "    <tr>\n",
              "      <th>2</th>\n",
              "      <td>8</td>\n",
              "      <td>1.4691</td>\n",
              "    </tr>\n",
              "    <tr>\n",
              "      <th>3</th>\n",
              "      <td>5</td>\n",
              "      <td>1.4691</td>\n",
              "    </tr>\n",
              "    <tr>\n",
              "      <th>4</th>\n",
              "      <td>8</td>\n",
              "      <td>1.4691</td>\n",
              "    </tr>\n",
              "  </tbody>\n",
              "</table>\n",
              "</div>"
            ],
            "text/plain": [
              "   sensor_reading  time_to_failure\n",
              "0              12           1.4691\n",
              "1               6           1.4691\n",
              "2               8           1.4691\n",
              "3               5           1.4691\n",
              "4               8           1.4691"
            ]
          },
          "metadata": {
            "tags": []
          },
          "execution_count": 5
        }
      ]
    },
    {
      "cell_type": "code",
      "metadata": {
        "id": "_ih_s4CdAzni",
        "colab_type": "code",
        "colab": {
          "base_uri": "https://localhost:8080/",
          "height": 69
        },
        "outputId": "3b868623-073c-4840-c848-830bbe93c944"
      },
      "source": [
        "trainData.count()"
      ],
      "execution_count": 6,
      "outputs": [
        {
          "output_type": "execute_result",
          "data": {
            "text/plain": [
              "sensor_reading     21772453\n",
              "time_to_failure    21772453\n",
              "dtype: int64"
            ]
          },
          "metadata": {
            "tags": []
          },
          "execution_count": 6
        }
      ]
    },
    {
      "cell_type": "code",
      "metadata": {
        "id": "0pFLjbPt9OAw",
        "colab_type": "code",
        "outputId": "fd9fc26e-e1a2-4d82-e3ac-e9eb5685d67e",
        "colab": {
          "base_uri": "https://localhost:8080/",
          "height": 294
        }
      },
      "source": [
        "trainData.describe()"
      ],
      "execution_count": 7,
      "outputs": [
        {
          "output_type": "execute_result",
          "data": {
            "text/html": [
              "<div>\n",
              "<style scoped>\n",
              "    .dataframe tbody tr th:only-of-type {\n",
              "        vertical-align: middle;\n",
              "    }\n",
              "\n",
              "    .dataframe tbody tr th {\n",
              "        vertical-align: top;\n",
              "    }\n",
              "\n",
              "    .dataframe thead th {\n",
              "        text-align: right;\n",
              "    }\n",
              "</style>\n",
              "<table border=\"1\" class=\"dataframe\">\n",
              "  <thead>\n",
              "    <tr style=\"text-align: right;\">\n",
              "      <th></th>\n",
              "      <th>sensor_reading</th>\n",
              "      <th>time_to_failure</th>\n",
              "    </tr>\n",
              "  </thead>\n",
              "  <tbody>\n",
              "    <tr>\n",
              "      <th>count</th>\n",
              "      <td>2.177245e+07</td>\n",
              "      <td>2.177245e+07</td>\n",
              "    </tr>\n",
              "    <tr>\n",
              "      <th>mean</th>\n",
              "      <td>4.643247e+00</td>\n",
              "      <td>7.084024e-01</td>\n",
              "    </tr>\n",
              "    <tr>\n",
              "      <th>std</th>\n",
              "      <td>2.324756e+01</td>\n",
              "      <td>4.100664e-01</td>\n",
              "    </tr>\n",
              "    <tr>\n",
              "      <th>min</th>\n",
              "      <td>-4.621000e+03</td>\n",
              "      <td>6.954833e-04</td>\n",
              "    </tr>\n",
              "    <tr>\n",
              "      <th>25%</th>\n",
              "      <td>2.000000e+00</td>\n",
              "      <td>3.538995e-01</td>\n",
              "    </tr>\n",
              "    <tr>\n",
              "      <th>50%</th>\n",
              "      <td>5.000000e+00</td>\n",
              "      <td>7.072972e-01</td>\n",
              "    </tr>\n",
              "    <tr>\n",
              "      <th>75%</th>\n",
              "      <td>7.000000e+00</td>\n",
              "      <td>1.060598e+00</td>\n",
              "    </tr>\n",
              "    <tr>\n",
              "      <th>max</th>\n",
              "      <td>5.444000e+03</td>\n",
              "      <td>1.469100e+00</td>\n",
              "    </tr>\n",
              "  </tbody>\n",
              "</table>\n",
              "</div>"
            ],
            "text/plain": [
              "       sensor_reading  time_to_failure\n",
              "count    2.177245e+07     2.177245e+07\n",
              "mean     4.643247e+00     7.084024e-01\n",
              "std      2.324756e+01     4.100664e-01\n",
              "min     -4.621000e+03     6.954833e-04\n",
              "25%      2.000000e+00     3.538995e-01\n",
              "50%      5.000000e+00     7.072972e-01\n",
              "75%      7.000000e+00     1.060598e+00\n",
              "max      5.444000e+03     1.469100e+00"
            ]
          },
          "metadata": {
            "tags": []
          },
          "execution_count": 7
        }
      ]
    },
    {
      "cell_type": "code",
      "metadata": {
        "id": "dcgZJgyT86rv",
        "colab_type": "code",
        "colab": {}
      },
      "source": [
        "TestData=pd.read_csv('/content/gdrive/My Drive/Task 2/DS_VF_Task_test.csv')\n"
      ],
      "execution_count": 0,
      "outputs": []
    },
    {
      "cell_type": "code",
      "metadata": {
        "id": "lP_TDbzG8_8W",
        "colab_type": "code",
        "outputId": "350afd47-c3a0-435f-ceed-cda8b4e9d21e",
        "colab": {
          "base_uri": "https://localhost:8080/",
          "height": 202
        }
      },
      "source": [
        "TestData.head()"
      ],
      "execution_count": 11,
      "outputs": [
        {
          "output_type": "execute_result",
          "data": {
            "text/html": [
              "<div>\n",
              "<style scoped>\n",
              "    .dataframe tbody tr th:only-of-type {\n",
              "        vertical-align: middle;\n",
              "    }\n",
              "\n",
              "    .dataframe tbody tr th {\n",
              "        vertical-align: top;\n",
              "    }\n",
              "\n",
              "    .dataframe thead th {\n",
              "        text-align: right;\n",
              "    }\n",
              "</style>\n",
              "<table border=\"1\" class=\"dataframe\">\n",
              "  <thead>\n",
              "    <tr style=\"text-align: right;\">\n",
              "      <th></th>\n",
              "      <th>sensor_reading</th>\n",
              "    </tr>\n",
              "  </thead>\n",
              "  <tbody>\n",
              "    <tr>\n",
              "      <th>0</th>\n",
              "      <td>-5</td>\n",
              "    </tr>\n",
              "    <tr>\n",
              "      <th>1</th>\n",
              "      <td>9</td>\n",
              "    </tr>\n",
              "    <tr>\n",
              "      <th>2</th>\n",
              "      <td>22</td>\n",
              "    </tr>\n",
              "    <tr>\n",
              "      <th>3</th>\n",
              "      <td>33</td>\n",
              "    </tr>\n",
              "    <tr>\n",
              "      <th>4</th>\n",
              "      <td>37</td>\n",
              "    </tr>\n",
              "  </tbody>\n",
              "</table>\n",
              "</div>"
            ],
            "text/plain": [
              "   sensor_reading\n",
              "0              -5\n",
              "1               9\n",
              "2              22\n",
              "3              33\n",
              "4              37"
            ]
          },
          "metadata": {
            "tags": []
          },
          "execution_count": 11
        }
      ]
    },
    {
      "cell_type": "code",
      "metadata": {
        "id": "IWiufgNVZKjS",
        "colab_type": "code",
        "colab": {}
      },
      "source": [
        "ytrain=trainData[['time_to_failure']]\n",
        "xtrain=trainData[['sensor_reading']]\n",
        "xtest=TestData[['sensor_reading']]"
      ],
      "execution_count": 0,
      "outputs": []
    },
    {
      "cell_type": "code",
      "metadata": {
        "id": "84DCO0xhZXPS",
        "colab_type": "code",
        "outputId": "949274af-f389-4b33-85d6-9e568af78a84",
        "colab": {
          "base_uri": "https://localhost:8080/",
          "height": 69
        }
      },
      "source": [
        "ytrain.isnull().sum(),xtrain.isnull().sum()"
      ],
      "execution_count": 13,
      "outputs": [
        {
          "output_type": "execute_result",
          "data": {
            "text/plain": [
              "(time_to_failure    0\n",
              " dtype: int64, sensor_reading    0\n",
              " dtype: int64)"
            ]
          },
          "metadata": {
            "tags": []
          },
          "execution_count": 13
        }
      ]
    },
    {
      "cell_type": "code",
      "metadata": {
        "id": "W8OTdA9fZa6b",
        "colab_type": "code",
        "outputId": "2e6999b9-1f0a-4700-e2cf-fd3e0c06498a",
        "colab": {
          "base_uri": "https://localhost:8080/",
          "height": 34
        }
      },
      "source": [
        "xtrain.shape,ytrain.shape"
      ],
      "execution_count": 14,
      "outputs": [
        {
          "output_type": "execute_result",
          "data": {
            "text/plain": [
              "((21772453, 1), (21772453, 1))"
            ]
          },
          "metadata": {
            "tags": []
          },
          "execution_count": 14
        }
      ]
    },
    {
      "cell_type": "code",
      "metadata": {
        "id": "Dnibb9criScZ",
        "colab_type": "code",
        "outputId": "87397989-488a-425e-eb6e-c2b1ed5114f5",
        "colab": {
          "base_uri": "https://localhost:8080/",
          "height": 52
        }
      },
      "source": [
        "ytrain.skew()\n"
      ],
      "execution_count": 15,
      "outputs": [
        {
          "output_type": "execute_result",
          "data": {
            "text/plain": [
              "time_to_failure    0.015326\n",
              "dtype: float64"
            ]
          },
          "metadata": {
            "tags": []
          },
          "execution_count": 15
        }
      ]
    },
    {
      "cell_type": "code",
      "metadata": {
        "id": "c1Ub2lzfhl2x",
        "colab_type": "code",
        "colab": {}
      },
      "source": [
        "# Data Scaling\n",
        "from sklearn.preprocessing import MinMaxScaler\n",
        "sc_X = MinMaxScaler()\n",
        "X_train_sc = sc_X.fit_transform(xtrain)\n",
        "X_test_sc = sc_X.transform(xtest)\n",
        "sc_X1 = MinMaxScaler()\n",
        "y_true_sc=sc_X1.fit_transform(ytrain)"
      ],
      "execution_count": 0,
      "outputs": []
    },
    {
      "cell_type": "code",
      "metadata": {
        "id": "9wXQ_NHaqqAN",
        "colab_type": "code",
        "colab": {}
      },
      "source": [
        "X_train_sc=pd.DataFrame(X_train_sc)\n",
        "X_test_sc=pd.DataFrame(X_test_sc)\n",
        "y_true_sc=pd.DataFrame(y_true_sc)"
      ],
      "execution_count": 0,
      "outputs": []
    },
    {
      "cell_type": "code",
      "metadata": {
        "id": "KeTTzAZ75ivu",
        "colab_type": "code",
        "colab": {}
      },
      "source": [
        ""
      ],
      "execution_count": 0,
      "outputs": []
    },
    {
      "cell_type": "code",
      "metadata": {
        "id": "LjJda-X1qRre",
        "colab_type": "code",
        "outputId": "32997a99-e1b5-4f32-989c-70921d18ab30",
        "colab": {
          "base_uri": "https://localhost:8080/",
          "height": 278
        }
      },
      "source": [
        "##  Visualization for sample of data\n",
        "sampleData_Y=y_true_sc.iloc[:1000,:]\n",
        "sampleData_X=X_train_sc.iloc[:1000,:]\n",
        "\n",
        "plt.plot(sampleData_X, sampleData_Y, color='blue')\n",
        "plt.show()\n"
      ],
      "execution_count": 18,
      "outputs": [
        {
          "output_type": "display_data",
          "data": {
            "image/png": "[encoded data removed]",
            "text/plain": [
              "<Figure size 432x288 with 1 Axes>"
            ]
          },
          "metadata": {
            "tags": []
          }
        }
      ]
    },
    {
      "cell_type": "code",
      "metadata": {
        "id": "FrxcHutq5hkn",
        "colab_type": "code",
        "colab": {}
      },
      "source": [
        "# # Trying here Sequences, Time Series and Prediction by windowed_dataset to prepare time series data\n",
        "\n",
        "# window_size = 20\n",
        "# batch_size = 32\n",
        "# shuffle_buffer_size = 10000\n",
        "# def windowed_dataset(series, window_size, batch_size, shuffle_buffer):\n",
        "#   dataset = tf.data.Dataset.from_tensor_slices(series)\n",
        "#   dataset = dataset.window(window_size+1 , shift=1, drop_remainder=True)\n",
        "#   dataset = dataset.flat_map(lambda window: window.batch(window_size+1 ))\n",
        "#   dataset = dataset.shuffle(shuffle_buffer).map(lambda window: (window[:-1], window[-1]))\n",
        "#   dataset = dataset.batch(batch_size).prefetch(1)\n",
        "#   return dataset\n"
      ],
      "execution_count": 0,
      "outputs": []
    },
    {
      "cell_type": "code",
      "metadata": {
        "id": "U03PBjMcqRui",
        "colab_type": "code",
        "colab": {}
      },
      "source": [
        "# dataset=windowed_dataset(trainData,window_size,batch_size,shuffle_buffer_size)"
      ],
      "execution_count": 0,
      "outputs": []
    },
    {
      "cell_type": "code",
      "metadata": {
        "id": "5FQwnKtQOas-",
        "colab_type": "code",
        "colab": {}
      },
      "source": [
        "\n",
        "# model = tf.keras.models.Sequential([\n",
        "#     tf.keras.layers.Dense(1000,input_shape=[window_size], activation=\"relu\"), \n",
        "#     tf.keras.layers.Dense(100, activation=\"relu\"),\n",
        "#     tf.keras.layers.Dense(50, activation=\"relu\"), \n",
        "#     tf.keras.layers.Dense(1)\n",
        "# ])"
      ],
      "execution_count": 0,
      "outputs": []
    },
    {
      "cell_type": "code",
      "metadata": {
        "id": "No0ENEtJOapq",
        "colab_type": "code",
        "colab": {}
      },
      "source": [
        "# model = tf.keras.models.Sequential([l0])\n",
        "# model.compile(loss=\"mse\", optimizer=tf.keras.optimizers.SGD(lr=1e-6, momentum=0.9))\n",
        "# model.fit(dataset,epochs=10,verbose=0)"
      ],
      "execution_count": 0,
      "outputs": []
    },
    {
      "cell_type": "code",
      "metadata": {
        "id": "0w8h_sBkZdM4",
        "colab_type": "code",
        "colab": {}
      },
      "source": [
        "# Divide our data into train and test\n",
        "X_train,X_test,Y_train,Y_test=train_test_split(X_train_sc,y_true_sc,test_size=0.2,random_state=42)"
      ],
      "execution_count": 0,
      "outputs": []
    },
    {
      "cell_type": "code",
      "metadata": {
        "id": "_4rKqtTTZf-a",
        "colab_type": "code",
        "outputId": "b7abc93a-0875-4ee7-c6cf-d5a90148cf0c",
        "colab": {
          "base_uri": "https://localhost:8080/",
          "height": 34
        }
      },
      "source": [
        "# Trying First Model is linear Regression\n",
        "\n",
        "model1= LinearRegression()\n",
        "model1.fit(X_train,Y_train)\n"
      ],
      "execution_count": 31,
      "outputs": [
        {
          "output_type": "execute_result",
          "data": {
            "text/plain": [
              "LinearRegression(copy_X=True, fit_intercept=True, n_jobs=None, normalize=False)"
            ]
          },
          "metadata": {
            "tags": []
          },
          "execution_count": 31
        }
      ]
    },
    {
      "cell_type": "code",
      "metadata": {
        "id": "GrSrrP2nZz4x",
        "colab_type": "code",
        "colab": {}
      },
      "source": [
        "ypre1=model1.predict(X_test)\n"
      ],
      "execution_count": 0,
      "outputs": []
    },
    {
      "cell_type": "code",
      "metadata": {
        "id": "UnViOTIEaBQs",
        "colab_type": "code",
        "outputId": "52d2ff1e-c02e-41bd-e972-91799fc2b09d",
        "colab": {
          "base_uri": "https://localhost:8080/",
          "height": 34
        }
      },
      "source": [
        "mean = mean_squared_error(y_pred=ypre1,y_true=Y_test)\n",
        "r2_scor = r2_score(y_pred=ypre1,y_true=Y_test)\n",
        "absloute = mean_absolute_error(y_pred=ypre1,y_true=Y_test)\n",
        "rmse = sqrt(mean_squared_error(y_pred=ypre1,y_true=Y_test))\n",
        "print(mean,r2_scor,absloute,rmse)"
      ],
      "execution_count": 33,
      "outputs": [
        {
          "output_type": "stream",
          "text": [
            "0.07798197985146148 1.566546510289868e-07 0.24146780055869457 0.2792525377708526\n"
          ],
          "name": "stdout"
        }
      ]
    },
    {
      "cell_type": "code",
      "metadata": {
        "id": "ahL452F6hhba",
        "colab_type": "code",
        "outputId": "c037df48-77a9-4216-b826-90ec1ac9d6b7",
        "colab": {
          "base_uri": "https://localhost:8080/",
          "height": 268
        }
      },
      "source": [
        "\n",
        "#plt.scatter(X_train_sc, y_true_sc)\n",
        "plt.scatter(X_test, Y_test)\n",
        "plt.plot(X_test, ypre1, color='red')\n",
        "plt.show()\n"
      ],
      "execution_count": 34,
      "outputs": [
        {
          "output_type": "display_data",
          "data": {
            "image/png": "[encoded data removed]",
            "text/plain": [
              "<Figure size 432x288 with 1 Axes>"
            ]
          },
          "metadata": {
            "tags": []
          }
        }
      ]
    },
    {
      "cell_type": "code",
      "metadata": {
        "id": "JZ26Kg6UxbFe",
        "colab_type": "code",
        "outputId": "661ca4ec-1d0d-4b60-d1ea-af7881951c37",
        "colab": {
          "base_uri": "https://localhost:8080/",
          "height": 228
        }
      },
      "source": [
        "# Second Model is RandomForestRegressor\n",
        "\n",
        "model2= RandomForestRegressor()\n",
        "model2.fit(X_train,Y_train)"
      ],
      "execution_count": 35,
      "outputs": [
        {
          "output_type": "stream",
          "text": [
            "/usr/local/lib/python3.6/dist-packages/sklearn/ensemble/forest.py:245: FutureWarning: The default value of n_estimators will change from 10 in version 0.20 to 100 in 0.22.\n",
            "  \"10 in version 0.20 to 100 in 0.22.\", FutureWarning)\n",
            "/usr/local/lib/python3.6/dist-packages/ipykernel_launcher.py:3: DataConversionWarning: A column-vector y was passed when a 1d array was expected. Please change the shape of y to (n_samples,), for example using ravel().\n",
            "  This is separate from the ipykernel package so we can avoid doing imports until\n"
          ],
          "name": "stderr"
        },
        {
          "output_type": "execute_result",
          "data": {
            "text/plain": [
              "RandomForestRegressor(bootstrap=True, criterion='mse', max_depth=None,\n",
              "                      max_features='auto', max_leaf_nodes=None,\n",
              "                      min_impurity_decrease=0.0, min_impurity_split=None,\n",
              "                      min_samples_leaf=1, min_samples_split=2,\n",
              "                      min_weight_fraction_leaf=0.0, n_estimators=10,\n",
              "                      n_jobs=None, oob_score=False, random_state=None,\n",
              "                      verbose=0, warm_start=False)"
            ]
          },
          "metadata": {
            "tags": []
          },
          "execution_count": 35
        }
      ]
    },
    {
      "cell_type": "code",
      "metadata": {
        "id": "06xICwqhxbJn",
        "colab_type": "code",
        "colab": {}
      },
      "source": [
        "ypre2=model2.predict(X_test)\n"
      ],
      "execution_count": 0,
      "outputs": []
    },
    {
      "cell_type": "code",
      "metadata": {
        "id": "nf0i_x8NxbMd",
        "colab_type": "code",
        "outputId": "43c03ee5-932d-4cfd-e46f-ba4a46b441e7",
        "colab": {
          "base_uri": "https://localhost:8080/",
          "height": 34
        }
      },
      "source": [
        "mean = mean_squared_error(y_pred=ypre2,y_true=Y_test)\n",
        "r2_scor = r2_score(y_pred=ypre2,y_true=Y_test)\n",
        "absloute = mean_absolute_error(y_pred=ypre2,y_true=Y_test)\n",
        "rmse = sqrt(mean_squared_error(y_pred=ypre2,y_true=Y_test))\n",
        "print(mean,r2_scor,absloute,rmse)"
      ],
      "execution_count": 40,
      "outputs": [
        {
          "output_type": "stream",
          "text": [
            "0.07773674257214423 0.003144950379647571 0.24116897602637036 0.2788130961273954\n"
          ],
          "name": "stdout"
        }
      ]
    },
    {
      "cell_type": "code",
      "metadata": {
        "id": "jx3gbrferk8x",
        "colab_type": "code",
        "outputId": "b9757d84-cb35-49e5-a6b0-6671eb4ce085",
        "colab": {
          "base_uri": "https://localhost:8080/",
          "height": 294
        }
      },
      "source": [
        "model2.get_params()"
      ],
      "execution_count": 41,
      "outputs": [
        {
          "output_type": "execute_result",
          "data": {
            "text/plain": [
              "{'bootstrap': True,\n",
              " 'criterion': 'mse',\n",
              " 'max_depth': None,\n",
              " 'max_features': 'auto',\n",
              " 'max_leaf_nodes': None,\n",
              " 'min_impurity_decrease': 0.0,\n",
              " 'min_impurity_split': None,\n",
              " 'min_samples_leaf': 1,\n",
              " 'min_samples_split': 2,\n",
              " 'min_weight_fraction_leaf': 0.0,\n",
              " 'n_estimators': 10,\n",
              " 'n_jobs': None,\n",
              " 'oob_score': False,\n",
              " 'random_state': None,\n",
              " 'verbose': 0,\n",
              " 'warm_start': False}"
            ]
          },
          "metadata": {
            "tags": []
          },
          "execution_count": 41
        }
      ]
    },
    {
      "cell_type": "code",
      "metadata": {
        "id": "3l_CsflgysFS",
        "colab_type": "code",
        "outputId": "bd18c367-2116-466e-8aba-5c2f3d3b7903",
        "colab": {
          "base_uri": "https://localhost:8080/",
          "height": 268
        }
      },
      "source": [
        "plt.scatter(X_test, Y_test)\n",
        "plt.plot(X_test, ypre2, color='red')\n",
        "plt.show()"
      ],
      "execution_count": 42,
      "outputs": [
        {
          "output_type": "display_data",
          "data": {
            "image/png": "[encoded data removed]",
            "text/plain": [
              "<Figure size 432x288 with 1 Axes>"
            ]
          },
          "metadata": {
            "tags": []
          }
        }
      ]
    },
    {
      "cell_type": "code",
      "metadata": {
        "id": "Rqd5GOR-ySda",
        "colab_type": "code",
        "outputId": "f7195ed8-27dc-4435-f78e-93bba4c84fbf",
        "colab": {
          "base_uri": "https://localhost:8080/",
          "height": 69
        }
      },
      "source": [
        "# third Model is linear Lasso Reg\n",
        "\n",
        "model3= Lasso()\n",
        "model3.fit(X_train,Y_train)"
      ],
      "execution_count": 43,
      "outputs": [
        {
          "output_type": "execute_result",
          "data": {
            "text/plain": [
              "Lasso(alpha=1.0, copy_X=True, fit_intercept=True, max_iter=1000,\n",
              "      normalize=False, positive=False, precompute=False, random_state=None,\n",
              "      selection='cyclic', tol=0.0001, warm_start=False)"
            ]
          },
          "metadata": {
            "tags": []
          },
          "execution_count": 43
        }
      ]
    },
    {
      "cell_type": "code",
      "metadata": {
        "id": "lCcXidrkySgZ",
        "colab_type": "code",
        "outputId": "5522bc92-f9dd-4737-df62-f9a333e779fc",
        "colab": {
          "base_uri": "https://localhost:8080/",
          "height": 34
        }
      },
      "source": [
        "ypre3=model3.predict(X_test)\n",
        "mean = mean_squared_error(y_pred=ypre3,y_true=Y_test)\n",
        "r2_scor = r2_score(y_pred=ypre3,y_true=Y_test)\n",
        "absloute = mean_absolute_error(y_pred=ypre3,y_true=Y_test)\n",
        "rmse = sqrt(mean_squared_error(y_pred=ypre3,y_true=Y_test))\n",
        "print(mean,r2_scor,absloute,rmse)"
      ],
      "execution_count": 44,
      "outputs": [
        {
          "output_type": "stream",
          "text": [
            "0.07798200211736861 -1.2887161648933443e-07 0.24146789846186972 0.27925257763782346\n"
          ],
          "name": "stdout"
        }
      ]
    },
    {
      "cell_type": "code",
      "metadata": {
        "id": "yEYkRmIjySjS",
        "colab_type": "code",
        "outputId": "667d5131-bea2-4f24-885a-7fc53c95710c",
        "colab": {
          "base_uri": "https://localhost:8080/",
          "height": 268
        }
      },
      "source": [
        "plt.scatter(X_test, Y_test)\n",
        "plt.plot(X_test, ypre3, color='red')\n",
        "plt.show()"
      ],
      "execution_count": 45,
      "outputs": [
        {
          "output_type": "display_data",
          "data": {
            "image/png": "[encoded data removed]",
            "text/plain": [
              "<Figure size 432x288 with 1 Axes>"
            ]
          },
          "metadata": {
            "tags": []
          }
        }
      ]
    },
    {
      "cell_type": "code",
      "metadata": {
        "colab_type": "code",
        "outputId": "b65dd943-4749-4238-9390-99d391f6091c",
        "id": "7G7jIcgYzEyY",
        "colab": {
          "base_uri": "https://localhost:8080/",
          "height": 104
        }
      },
      "source": [
        "# fourth Model is DecisionTreeRegressor\n",
        "model4= DecisionTreeRegressor(max_depth=5)\n",
        "model4.fit(X_train,Y_train)\n",
        "\n"
      ],
      "execution_count": 46,
      "outputs": [
        {
          "output_type": "execute_result",
          "data": {
            "text/plain": [
              "DecisionTreeRegressor(criterion='mse', max_depth=5, max_features=None,\n",
              "                      max_leaf_nodes=None, min_impurity_decrease=0.0,\n",
              "                      min_impurity_split=None, min_samples_leaf=1,\n",
              "                      min_samples_split=2, min_weight_fraction_leaf=0.0,\n",
              "                      presort=False, random_state=None, splitter='best')"
            ]
          },
          "metadata": {
            "tags": []
          },
          "execution_count": 46
        }
      ]
    },
    {
      "cell_type": "code",
      "metadata": {
        "id": "vJIjlfRBySl8",
        "colab_type": "code",
        "outputId": "fcd473d5-1a34-4a1a-8c5e-d694f10a681d",
        "colab": {
          "base_uri": "https://localhost:8080/",
          "height": 34
        }
      },
      "source": [
        "ypre4=model4.predict(X_test)\n",
        "mean = mean_squared_error(y_pred=ypre4,y_true=Y_test)\n",
        "r2_scor = r2_score(y_pred=ypre4,y_true=Y_test)\n",
        "absloute = mean_absolute_error(y_pred=ypre4,y_true=Y_test)\n",
        "rmse = sqrt(mean_squared_error(y_pred=ypre4,y_true=Y_test))\n",
        "print(mean,r2_scor,absloute,rmse)"
      ],
      "execution_count": 47,
      "outputs": [
        {
          "output_type": "stream",
          "text": [
            "0.07773895711695543 0.0031165522231952902 0.24117421280369605 0.2788170674778634\n"
          ],
          "name": "stdout"
        }
      ]
    },
    {
      "cell_type": "code",
      "metadata": {
        "id": "cGG5xvhMaE6G",
        "colab_type": "code",
        "outputId": "8bd16a64-373c-4985-e31e-ddffeff5b678",
        "colab": {
          "base_uri": "https://localhost:8080/",
          "height": 268
        }
      },
      "source": [
        "plt.scatter(X_test, Y_test)\n",
        "plt.plot(X_test, ypre4, color='red')\n",
        "plt.show()"
      ],
      "execution_count": 48,
      "outputs": [
        {
          "output_type": "display_data",
          "data": {
            "image/png": "[encoded data removed]",
            "text/plain": [
              "<Figure size 432x288 with 1 Axes>"
            ]
          },
          "metadata": {
            "tags": []
          }
        }
      ]
    },
    {
      "cell_type": "code",
      "metadata": {
        "id": "VKI3CmpGbtkv",
        "colab_type": "code",
        "outputId": "5d12f751-a35a-4f75-fb8a-fb8854bb76e9",
        "colab": {
          "base_uri": "https://localhost:8080/",
          "height": 34
        }
      },
      "source": [
        "# fifes Model is PolynomialFeatures\n",
        "model5 = PolynomialFeatures(degree=4)\n",
        "\n",
        "X_trainPo = model5.fit_transform(X_train)\n",
        "X_testPo = model5.fit_transform(X_test)\n",
        "\n",
        "model = LinearRegression()\n",
        "model.fit(X_trainPo, Y_train)\n",
        "\n"
      ],
      "execution_count": 49,
      "outputs": [
        {
          "output_type": "execute_result",
          "data": {
            "text/plain": [
              "LinearRegression(copy_X=True, fit_intercept=True, n_jobs=None, normalize=False)"
            ]
          },
          "metadata": {
            "tags": []
          },
          "execution_count": 49
        }
      ]
    },
    {
      "cell_type": "code",
      "metadata": {
        "id": "4zXTKXHIwW97",
        "colab_type": "code",
        "outputId": "92312ea0-6a99-4677-bb93-26dd9aca8d0c",
        "colab": {
          "base_uri": "https://localhost:8080/",
          "height": 34
        }
      },
      "source": [
        "model5.get_params().keys()   "
      ],
      "execution_count": 50,
      "outputs": [
        {
          "output_type": "execute_result",
          "data": {
            "text/plain": [
              "dict_keys(['degree', 'include_bias', 'interaction_only', 'order'])"
            ]
          },
          "metadata": {
            "tags": []
          },
          "execution_count": 50
        }
      ]
    },
    {
      "cell_type": "code",
      "metadata": {
        "id": "O1umr8G9kSUN",
        "colab_type": "code",
        "colab": {}
      },
      "source": [
        ""
      ],
      "execution_count": 0,
      "outputs": []
    },
    {
      "cell_type": "code",
      "metadata": {
        "id": "OT-XHUcQjlfi",
        "colab_type": "code",
        "outputId": "1d04cb2e-2045-4aeb-a5f1-b23230a0997f",
        "colab": {
          "base_uri": "https://localhost:8080/",
          "height": 34
        }
      },
      "source": [
        "ypre5=model.predict(X_testPo)\n",
        "mean = mean_squared_error(y_pred=ypre5,y_true=Y_test)\n",
        "r2_scor = r2_score(y_pred=ypre5,y_true=Y_test)\n",
        "absloute = mean_absolute_error(y_pred=ypre5,y_true=Y_test)\n",
        "rmse = sqrt(mean_squared_error(y_pred=ypre5,y_true=Y_test))\n",
        "print(mean,r2_scor,absloute,rmse)"
      ],
      "execution_count": 51,
      "outputs": [
        {
          "output_type": "stream",
          "text": [
            "0.07797076304522566 0.00014399507091100716 0.24143619923714008 0.27923245342407044\n"
          ],
          "name": "stdout"
        }
      ]
    },
    {
      "cell_type": "code",
      "metadata": {
        "id": "b3H7WaPtju1G",
        "colab_type": "code",
        "outputId": "89a31ae1-0987-40bd-ebde-91b821a1196d",
        "colab": {
          "base_uri": "https://localhost:8080/",
          "height": 272
        }
      },
      "source": [
        "plt.scatter(X_test, Y_test)\n",
        "plt.plot(X_test, ypre5, color='red')\n",
        "plt.show()"
      ],
      "execution_count": 52,
      "outputs": [
        {
          "output_type": "display_data",
          "data": {
            "image/png": "[encoded data removed]",
            "text/plain": [
              "<Figure size 432x288 with 1 Axes>"
            ]
          },
          "metadata": {
            "tags": []
          }
        }
      ]
    },
    {
      "cell_type": "code",
      "metadata": {
        "id": "Pg1zJoj9KPJ9",
        "colab_type": "code",
        "colab": {}
      },
      "source": [
        ""
      ],
      "execution_count": 0,
      "outputs": []
    },
    {
      "cell_type": "code",
      "metadata": {
        "id": "w1MxtOwmK6nR",
        "colab_type": "code",
        "colab": {}
      },
      "source": [
        ""
      ],
      "execution_count": 0,
      "outputs": []
    },
    {
      "cell_type": "code",
      "metadata": {
        "id": "lpwhcaENo3i4",
        "colab_type": "code",
        "outputId": "8de17358-be21-402f-c085-60e0b6fa7ec1",
        "colab": {
          "base_uri": "https://localhost:8080/",
          "height": 294
        }
      },
      "source": [
        "# Build the neural network\n",
        "model = tf.keras.models.Sequential()\n",
        "model.add(tf.keras.layers.Dense(15, input_dim=xtrain.shape[1], activation='relu')) # Hidden 1\n",
        "model.add(tf.keras.layers.Dropout(rate = 0.2))\n",
        "model.add(tf.keras.layers.Dense(7, activation='relu')) # Hidden 2\n",
        "model.add(tf.keras.layers.Dense(1)) # Output\n",
        "model.compile(loss=tf.keras.metrics.mean_squared_error,metrics=[tf.keras.metrics.RootMeanSquaredError(name='rmse')] ,optimizer='adam')\n",
        "monitor = tf.keras.callbacks.EarlyStopping(monitor='val_loss', min_delta=1e-3, \n",
        "                       patience=5, verbose=1, mode='auto', restore_best_weights=True)\n",
        "model.fit(X_train,Y_train,batch_size=500,validation_data=(X_test,Y_test),callbacks=[monitor],verbose=1,epochs=50)"
      ],
      "execution_count": 53,
      "outputs": [
        {
          "output_type": "stream",
          "text": [
            "Train on 17417962 samples, validate on 4354491 samples\n",
            "Epoch 1/50\n",
            "17417962/17417962 [==============================] - 85s 5us/sample - loss: 0.0782 - rmse: 0.2796 - val_loss: 0.0780 - val_rmse: 0.2793\n",
            "Epoch 2/50\n",
            "17417962/17417962 [==============================] - 84s 5us/sample - loss: 0.0780 - rmse: 0.2793 - val_loss: 0.0780 - val_rmse: 0.2792\n",
            "Epoch 3/50\n",
            "17417962/17417962 [==============================] - 84s 5us/sample - loss: 0.0780 - rmse: 0.2793 - val_loss: 0.0780 - val_rmse: 0.2792\n",
            "Epoch 4/50\n",
            "17417962/17417962 [==============================] - 84s 5us/sample - loss: 0.0780 - rmse: 0.2793 - val_loss: 0.0780 - val_rmse: 0.2792\n",
            "Epoch 5/50\n",
            "17417962/17417962 [==============================] - 84s 5us/sample - loss: 0.0780 - rmse: 0.2793 - val_loss: 0.0780 - val_rmse: 0.2792\n",
            "Epoch 6/50\n",
            "17416500/17417962 [============================>.] - ETA: 0s - loss: 0.0780 - rmse: 0.2793Restoring model weights from the end of the best epoch.\n",
            "17417962/17417962 [==============================] - 84s 5us/sample - loss: 0.0780 - rmse: 0.2793 - val_loss: 0.0780 - val_rmse: 0.2792\n",
            "Epoch 00006: early stopping\n"
          ],
          "name": "stdout"
        },
        {
          "output_type": "execute_result",
          "data": {
            "text/plain": [
              "<tensorflow.python.keras.callbacks.History at 0x7f86005db208>"
            ]
          },
          "metadata": {
            "tags": []
          },
          "execution_count": 53
        }
      ]
    },
    {
      "cell_type": "code",
      "metadata": {
        "id": "nY5luEBD9nKv",
        "colab_type": "code",
        "colab": {}
      },
      "source": [
        "X = np.array(X_train).reshape(17417962, 1, 1)\n",
        "#Building LSTM Model"
      ],
      "execution_count": 0,
      "outputs": []
    },
    {
      "cell_type": "code",
      "metadata": {
        "id": "JxI_MoOv9kf9",
        "colab_type": "code",
        "colab": {
          "base_uri": "https://localhost:8080/",
          "height": 381
        },
        "outputId": "b648b4ec-ea73-4272-82d8-ded77877ca61"
      },
      "source": [
        "model_LSTM =tf.keras.models.Sequential()\n",
        "model_LSTM.add((tf.keras.layers.LSTM(1000,activation='relu',input_shape=(1, 1))))\n",
        "\n",
        "model_LSTM.add(tf.keras.layers.Dense(500,activation='relu'))\n",
        "model_LSTM.add(tf.keras.layers.Dense(100,activation='relu'))\n",
        "model_LSTM.add(tf.keras.layers.Dense(50,activation='relu'))\n",
        "model_LSTM.add(tf.keras.layers.Dense(20,activation='relu'))\n",
        "model_LSTM.add(tf.keras.layers.Dense(1)) \n",
        "model_LSTM.compile(loss=tf.keras.metrics.mean_squared_error,metrics=[tf.keras.metrics.RootMeanSquaredError(name='rmse')] ,optimizer=tf.keras.optimizers.SGD(lr=1e-6, momentum=0.9))\n",
        "print(model_LSTM.summary())"
      ],
      "execution_count": 55,
      "outputs": [
        {
          "output_type": "stream",
          "text": [
            "Model: \"sequential_5\"\n",
            "_________________________________________________________________\n",
            "Layer (type)                 Output Shape              Param #   \n",
            "=================================================================\n",
            "lstm (LSTM)                  (None, 1000)              4008000   \n",
            "_________________________________________________________________\n",
            "dense_8 (Dense)              (None, 500)               500500    \n",
            "_________________________________________________________________\n",
            "dense_9 (Dense)              (None, 100)               50100     \n",
            "_________________________________________________________________\n",
            "dense_10 (Dense)             (None, 50)                5050      \n",
            "_________________________________________________________________\n",
            "dense_11 (Dense)             (None, 20)                1020      \n",
            "_________________________________________________________________\n",
            "dense_12 (Dense)             (None, 1)                 21        \n",
            "=================================================================\n",
            "Total params: 4,564,691\n",
            "Trainable params: 4,564,691\n",
            "Non-trainable params: 0\n",
            "_________________________________________________________________\n",
            "None\n"
          ],
          "name": "stdout"
        }
      ]
    },
    {
      "cell_type": "code",
      "metadata": {
        "id": "sZO2oAlV1BMJ",
        "colab_type": "code",
        "colab": {
          "base_uri": "https://localhost:8080/",
          "height": 297
        },
        "outputId": "71f8c93d-1b52-491e-d70c-9684a55cf70d"
      },
      "source": [
        " monitor_LSTM = tf.keras.callbacks.EarlyStopping(monitor='val_loss', min_delta=1e-3,  patience=5, verbose=1, mode='auto', restore_best_weights=True)\n",
        "model_LSTM.fit(X, Y_train,batch_size=500, validation_split=0.2,verbose=1,epochs=5)"
      ],
      "execution_count": 70,
      "outputs": [
        {
          "output_type": "stream",
          "text": [
            "WARNING:tensorflow:From /usr/local/lib/python3.6/dist-packages/tensorflow_core/python/ops/math_grad.py:1424: where (from tensorflow.python.ops.array_ops) is deprecated and will be removed in a future version.\n",
            "Instructions for updating:\n",
            "Use tf.where in 2.0, which has the same broadcast rule as np.where\n",
            "Train on 13934369 samples, validate on 3483593 samples\n",
            "Epoch 1/5\n",
            "13934369/13934369 [==============================] - 203s 15us/sample - loss: 0.1415 - rmse: 0.3761 - val_loss: 0.0836 - val_rmse: 0.2892\n",
            "Epoch 2/5\n",
            "13934369/13934369 [==============================] - 203s 15us/sample - loss: 0.0794 - rmse: 0.2817 - val_loss: 0.0781 - val_rmse: 0.2795\n",
            "Epoch 3/5\n",
            "13934369/13934369 [==============================] - 202s 15us/sample - loss: 0.0780 - rmse: 0.2793 - val_loss: 0.0780 - val_rmse: 0.2793\n",
            "Epoch 4/5\n",
            "13934369/13934369 [==============================] - 202s 14us/sample - loss: 0.0780 - rmse: 0.2793 - val_loss: 0.0780 - val_rmse: 0.2793\n",
            "Epoch 5/5\n",
            "13934369/13934369 [==============================] - 202s 14us/sample - loss: 0.0780 - rmse: 0.2793 - val_loss: 0.0780 - val_rmse: 0.2793\n"
          ],
          "name": "stdout"
        },
        {
          "output_type": "execute_result",
          "data": {
            "text/plain": [
              "<tensorflow.python.keras.callbacks.History at 0x7f86002376d8>"
            ]
          },
          "metadata": {
            "tags": []
          },
          "execution_count": 70
        }
      ]
    },
    {
      "cell_type": "code",
      "metadata": {
        "id": "RvjiM9DvUtJ1",
        "colab_type": "code",
        "colab": {}
      },
      "source": [
        "ypre4=ypre4.reshape(-1, 1)\n",
        "ypre_new_inverse = sc_X1.inverse_transform(ypre4)\n"
      ],
      "execution_count": 0,
      "outputs": []
    },
    {
      "cell_type": "code",
      "metadata": {
        "id": "rsB3wopdVnlr",
        "colab_type": "code",
        "colab": {}
      },
      "source": [
        ""
      ],
      "execution_count": 0,
      "outputs": []
    },
    {
      "cell_type": "code",
      "metadata": {
        "id": "EVMX0QXy0Jwt",
        "colab_type": "code",
        "colab": {}
      },
      "source": [
        "# So here we will use DecisionTreeRegressor (Model 4)  for prediction\n",
        "\n",
        "\n",
        "ypre_new_inverse =pd.DataFrame(ypre_new_inverse,columns=['time_to_failure'])\n",
        "\n",
        "Task2_submission = pd.concat([TestData['sensor_reading'],ypre_new_inverse],axis=1)\n",
        "Task2_submission.to_csv('Task2_submission.csv',index=False)\n"
      ],
      "execution_count": 0,
      "outputs": []
    },
    {
      "cell_type": "code",
      "metadata": {
        "id": "_qFE5Rg2WM4i",
        "colab_type": "code",
        "colab": {}
      },
      "source": [
        ""
      ],
      "execution_count": 0,
      "outputs": []
    }
  ]
}